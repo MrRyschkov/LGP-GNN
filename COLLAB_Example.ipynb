{
 "cells": [
  {
   "cell_type": "code",
   "execution_count": 1,
   "metadata": {},
   "outputs": [
    {
     "name": "stderr",
     "output_type": "stream",
     "text": [
      "DGL backend not selected or invalid.  Assuming PyTorch for now.\n",
      "Using backend: pytorch\n"
     ]
    },
    {
     "name": "stdout",
     "output_type": "stream",
     "text": [
      "Setting the default backend to \"pytorch\". You can change it in the ~/.dgl/config.json file or export the DGLBACKEND environment variable.  Valid options are: pytorch, mxnet, tensorflow (all lowercase)\n"
     ]
    },
    {
     "name": "stderr",
     "output_type": "stream",
     "text": [
      "WARNING:root:The OGB package is out of date. Your version is 1.2.2, while the latest version is 1.2.4.\n"
     ]
    }
   ],
   "source": [
    "import COLLAB_Prediction as cp"
   ]
  },
  {
   "cell_type": "markdown",
   "metadata": {},
   "source": [
    "The following function allows you to train the provided models with a feature-augmented version of the datasets. \n",
    "\n",
    "    zr.perform_collab_prediction(Dataset, Model, random_seed)\n",
    "\n",
    "The available options for the dataset are: \"OGBL-COLLAB\", \"OGBL-COLLAB_3Cl\", \"OGBL-COLLAB_4Cl\",\n",
    "\"OGBL-COLLAB_5Cl\", \"OGBL-COLLAB_34Cl\", \"OGBL-COLLAB_345Cl\"\n",
    "\n",
    "The available models are \"GAT\", \"GCN\", \"MoNet\", \"GraphSage\" and \"GatedGCN_E_PE\".\n",
    "\n",
    "A random seed of choise needs to be chosen as well (the results in the paper are obtained by averaging over 41, 42, 43 and 44).\n",
    "\n",
    "An example (to reproduce the best results for the  model) is provided below:"
   ]
  },
  {
   "cell_type": "code",
   "execution_count": null,
   "metadata": {},
   "outputs": [],
   "source": [
    "cp.perform_collab_prediction(\"OGBL-COLLAB_5Cl\", \"GCN\", 43)"
   ]
  }
 ],
 "metadata": {
  "kernelspec": {
   "display_name": "Python 3",
   "language": "python",
   "name": "python3"
  },
  "language_info": {
   "codemirror_mode": {
    "name": "ipython",
    "version": 3
   },
   "file_extension": ".py",
   "mimetype": "text/x-python",
   "name": "python",
   "nbconvert_exporter": "python",
   "pygments_lexer": "ipython3",
   "version": "3.7.6"
  }
 },
 "nbformat": 4,
 "nbformat_minor": 4
}
