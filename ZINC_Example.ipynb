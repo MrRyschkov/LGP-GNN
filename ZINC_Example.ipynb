{
 "cells": [
  {
   "cell_type": "code",
   "execution_count": null,
   "metadata": {},
   "outputs": [],
   "source": [
    "import ZINC_Regression as zr"
   ]
  },
  {
   "cell_type": "markdown",
   "metadata": {},
   "source": [
    "The following function allows you to train the provided models with a feature-augmented version of the datasets. \n",
    "\n",
    "    zr.perform_zinc_regression(Dataset, Model, random_seed)\n",
    "\n",
    "The available options for the dataset are: \"ZINC_nofeat\", \"ZINC_3Cy\", \"ZINC_4Cy\", \"ZINC_5Cy\", \"ZINC_6Cy\", \"ZINC_34Cy\", \"ZINC_56Cy\", \"ZINC_456Cy\", \"ZINC_3456Cy\", \"ZINC_345678910Cy\", \"ZINC_I_345678910Cy\".\n",
    "\n",
    "The last contains lognormalized subgraph isomorphism counts as additional features, the others are homopmorhism counts of the respective cycles".\n",
    "\n",
    "The available models are \"GAT\", \"GCN\", \"MoNet\", \"GraphSage\" and \"GatedGCN_E_PE\".\n",
    "\n",
    "A random seed of choise needs to be chosen as well (the results in the paper are obtained by using 41, 42, 43 and 44.\n",
    "An example (to reproduce the best results for the GAT model) is provided below:"
   ]
  },
  {
   "cell_type": "code",
   "execution_count": null,
   "metadata": {},
   "outputs": [],
   "source": [
    "zr.perform_zinc_regression(\"ZINC_3456Cy\", \"GAT\", 41)"
   ]
  }
 ],
 "metadata": {
  "kernelspec": {
   "display_name": "Python 3",
   "language": "python",
   "name": "python3"
  },
  "language_info": {
   "codemirror_mode": {
    "name": "ipython",
    "version": 3
   },
   "file_extension": ".py",
   "mimetype": "text/x-python",
   "name": "python",
   "nbconvert_exporter": "python",
   "pygments_lexer": "ipython3",
   "version": "3.7.6"
  }
 },
 "nbformat": 4,
 "nbformat_minor": 4
}
