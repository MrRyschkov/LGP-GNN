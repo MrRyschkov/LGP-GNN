{
 "cells": [
  {
   "cell_type": "code",
   "execution_count": null,
   "metadata": {},
   "outputs": [],
   "source": [
    "import PATTERN_Node_Classification as pnc"
   ]
  },
  {
   "cell_type": "markdown",
   "metadata": {},
   "source": [
    "The following function allows you to train the provided models with a feature-augmented version of the datasets. \n",
    "\n",
    "    pnc.perform_pattern_classification(Dataset, Model, random_seed)\n",
    "\n",
    "The available options for the dataset are: \"SBM_PATTERN\", \"SBM_PATTERN_3Cl\", \"SBM_PATTERN_4Cl\",\n",
    "\"SBM_PATTERN_5Cl\", \"SBM_PATTERN_34Cl\", \"SBM_PATTERN_345Cl\"\n",
    "\n",
    "The available models are \"GAT\", \"GCN\", \"MoNet\", \"GraphSage\" and \"GatedGCN_E_PE\".\n",
    "\n",
    "A random seed of choise needs to be chosen as well (the results in the paper are obtained by averaging over 41, 42, 43 and 44).\n",
    "\n",
    "An example (to reproduce the best results for the MoNet model) is provided below:"
   ]
  },
  {
   "cell_type": "code",
   "execution_count": null,
   "metadata": {},
   "outputs": [],
   "source": [
    "pnc.perform_pattern_classification(\"SBM_PATTERN_345Cl\", \"MoNet\", 42)"
   ]
  }
 ],
 "metadata": {
  "kernelspec": {
   "display_name": "Python 3",
   "language": "python",
   "name": "python3"
  },
  "language_info": {
   "codemirror_mode": {
    "name": "ipython",
    "version": 3
   },
   "file_extension": ".py",
   "mimetype": "text/x-python",
   "name": "python",
   "nbconvert_exporter": "python",
   "pygments_lexer": "ipython3",
   "version": "3.7.6"
  }
 },
 "nbformat": 4,
 "nbformat_minor": 4
}
